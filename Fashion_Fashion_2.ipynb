{
 "cells": [
  {
   "cell_type": "code",
   "execution_count": 2,
   "id": "2d54cccf",
   "metadata": {},
   "outputs": [],
   "source": [
    "# Import dependencies\n",
    "# Load and read data file. Store as Pandas DataFrame\n",
    "# Get API\n",
    "from requests import get\n",
    "import matplotlib.pyplot as plt\n",
    "import pandas as pd\n",
    "import scipy.stats as st\n",
    "\n",
    "\n",
    "data_to_load = \"myntra_products_catalog.csv\"\n",
    "fashion_data = pd.read_csv(data_to_load)\n",
    "fashion_data\n",
    "\n",
    "\n",
    "url = \"https://asos2.p.rapidapi.com/v2/auto-complete\" \n",
    "\n",
    "headers = {\n",
    "    \"X-RapidAPI-Key\": \"\",\n",
    "    \"X-RapidAPI-Host\": \"asos2.p.rapidapi.com\"\n",
    "}\n"
   ]
  },
  {
   "cell_type": "code",
   "execution_count": null,
   "id": "b4da9bc6",
   "metadata": {},
   "outputs": [],
   "source": []
  },
  {
   "cell_type": "markdown",
   "id": "d8701c05",
   "metadata": {},
   "source": [
    "Data Extraction and Cleaning"
   ]
  },
  {
   "cell_type": "code",
   "execution_count": 3,
   "id": "09bda3ea",
   "metadata": {},
   "outputs": [],
   "source": [
    "# ASOS EXTRACTION/CLEANING"
   ]
  },
  {
   "cell_type": "code",
   "execution_count": 4,
   "id": "45b232c0",
   "metadata": {},
   "outputs": [],
   "source": [
    "# Function that takes a search term, store, and country as input retunrs the number of results for each searach term\n",
    "def autocomplete_viz(search_term, store, country):\n",
    "\n",
    "    querystring = {\"q\": search_term, \"store\": store, \"country\": country}\n",
    "\n",
    "    autocomplete_response = get(url, headers=headers, params=querystring).json()\n",
    "    \n",
    "    suggestions = autocomplete_response[\"suggestionGroups\"][0][\"suggestions\"]\n",
    "    \n",
    "    search_terms, number_results = [], []\n",
    "    for suggestion in suggestions:\n",
    "        search_terms.append(suggestion[\"searchTerm\"])\n",
    "        number_results.append(suggestion[\"numberOfResults\"])\n",
    "    \n",
    "    return sum(number_results)\n"
   ]
  },
  {
   "cell_type": "code",
   "execution_count": 6,
   "id": "de366d63",
   "metadata": {},
   "outputs": [],
   "source": [
    "# Executing defined function for each color/location/store combination\n",
    "\n",
    "us_pink = autocomplete_viz(\"pink\", \"US\", \"US\")\n",
    "us_blue = autocomplete_viz(\"blue\", \"US\", \"US\")\n",
    "us_green = autocomplete_viz(\"green\", \"US\", \"US\")\n",
    "us_black = autocomplete_viz(\"black\", \"US\", \"US\")\n",
    "us_white = autocomplete_viz(\"white\", \"US\", \"US\")\n",
    "\n",
    "fr_pink = autocomplete_viz(\"rose\", \"FR\", \"FR\")\n",
    "fr_blue = autocomplete_viz(\"bleu\", \"FR\", \"FR\")\n",
    "fr_green = autocomplete_viz(\"verte\", \"FR\", \"FR\")\n",
    "fr_black = autocomplete_viz(\"noir\", \"FR\", \"FR\")\n",
    "fr_white = autocomplete_viz(\"blanc\", \"FR\", \"FR\")\n",
    "\n",
    "es_pink = autocomplete_viz(\"rosa\", \"ES\", \"ES\")\n",
    "es_blue = autocomplete_viz(\"azul\", \"ES\", \"ES\")\n",
    "es_green = autocomplete_viz(\"verde\", \"ES\", \"ES\")\n",
    "es_black = autocomplete_viz(\"negro\", \"ES\", \"ES\")\n",
    "es_white = autocomplete_viz(\"blanco\", \"ES\", \"ES\")\n",
    "\n",
    "de_pink = autocomplete_viz(\"rosa\", \"DE\", \"DE\")\n",
    "de_blue = autocomplete_viz(\"blau\", \"DE\", \"DE\")\n",
    "de_green = autocomplete_viz(\"grun\", \"DE\", \"DE\")\n",
    "de_black = autocomplete_viz(\"schwarz\", \"DE\", \"DE\")\n",
    "de_white = autocomplete_viz(\"weiß\", \"DE\", \"DE\")\n",
    "\n",
    "it_pink = autocomplete_viz(\"rosa\", \"IT\", \"IT\")\n",
    "it_blue = autocomplete_viz(\"blu\", \"IT\", \"IT\")\n",
    "it_green = autocomplete_viz(\"verde\", \"IT\", \"IT\")\n",
    "it_black = autocomplete_viz(\"nero\", \"IT\", \"IT\")\n",
    "it_white = autocomplete_viz(\"bianco\", \"IT\", \"IT\")\n",
    "\n",
    "au_pink = autocomplete_viz(\"pink\", \"AU\", \"AU\")\n",
    "au_blue = autocomplete_viz(\"blue\", \"AU\", \"AU\")\n",
    "au_green = autocomplete_viz(\"green\", \"AU\", \"AU\")\n",
    "au_black = autocomplete_viz(\"black\", \"AU\", \"AU\")\n",
    "au_white = autocomplete_viz(\"white\", \"AU\", \"AU\")"
   ]
  },
  {
   "cell_type": "code",
   "execution_count": 8,
   "id": "acdb055a",
   "metadata": {},
   "outputs": [
    {
     "data": {
      "text/html": [
       "<div>\n",
       "<style scoped>\n",
       "    .dataframe tbody tr th:only-of-type {\n",
       "        vertical-align: middle;\n",
       "    }\n",
       "\n",
       "    .dataframe tbody tr th {\n",
       "        vertical-align: top;\n",
       "    }\n",
       "\n",
       "    .dataframe thead th {\n",
       "        text-align: right;\n",
       "    }\n",
       "</style>\n",
       "<table border=\"1\" class=\"dataframe\">\n",
       "  <thead>\n",
       "    <tr style=\"text-align: right;\">\n",
       "      <th></th>\n",
       "      <th>Pink</th>\n",
       "      <th>Blue</th>\n",
       "      <th>Green</th>\n",
       "      <th>Black</th>\n",
       "      <th>White</th>\n",
       "    </tr>\n",
       "  </thead>\n",
       "  <tbody>\n",
       "    <tr>\n",
       "      <th>0</th>\n",
       "      <td>19509</td>\n",
       "      <td>17351</td>\n",
       "      <td>19506</td>\n",
       "      <td>14459</td>\n",
       "      <td>7966</td>\n",
       "    </tr>\n",
       "    <tr>\n",
       "      <th>1</th>\n",
       "      <td>25317</td>\n",
       "      <td>14573</td>\n",
       "      <td>11054</td>\n",
       "      <td>21026</td>\n",
       "      <td>12364</td>\n",
       "    </tr>\n",
       "    <tr>\n",
       "      <th>2</th>\n",
       "      <td>20390</td>\n",
       "      <td>9040</td>\n",
       "      <td>9963</td>\n",
       "      <td>13663</td>\n",
       "      <td>11381</td>\n",
       "    </tr>\n",
       "    <tr>\n",
       "      <th>3</th>\n",
       "      <td>12412</td>\n",
       "      <td>16464</td>\n",
       "      <td>16061</td>\n",
       "      <td>3256</td>\n",
       "      <td>893</td>\n",
       "    </tr>\n",
       "    <tr>\n",
       "      <th>4</th>\n",
       "      <td>20876</td>\n",
       "      <td>30005</td>\n",
       "      <td>14197</td>\n",
       "      <td>19032</td>\n",
       "      <td>8959</td>\n",
       "    </tr>\n",
       "    <tr>\n",
       "      <th>5</th>\n",
       "      <td>14861</td>\n",
       "      <td>21340</td>\n",
       "      <td>14148</td>\n",
       "      <td>16045</td>\n",
       "      <td>11563</td>\n",
       "    </tr>\n",
       "  </tbody>\n",
       "</table>\n",
       "</div>"
      ],
      "text/plain": [
       "    Pink   Blue  Green  Black  White\n",
       "0  19509  17351  19506  14459   7966\n",
       "1  25317  14573  11054  21026  12364\n",
       "2  20390   9040   9963  13663  11381\n",
       "3  12412  16464  16061   3256    893\n",
       "4  20876  30005  14197  19032   8959\n",
       "5  14861  21340  14148  16045  11563"
      ]
     },
     "execution_count": 8,
     "metadata": {},
     "output_type": "execute_result"
    }
   ],
   "source": [
    "# Creating combined color DataFrame from data generated using autocomplete_viz\n",
    "colors_df = pd.DataFrame({\"Pink\":[us_pink, fr_pink, es_pink, de_pink, it_pink, au_pink], \"Blue\":[us_blue, fr_blue, es_blue, de_blue, it_blue, au_blue], \"Green\":[us_green, fr_green, es_green, de_green, it_green, au_green],\"Black\":[us_black, fr_black, es_black, de_black, it_black, au_black], \"White\":[us_white, fr_white, es_white, de_white, it_white, au_white],})\n",
    "colors_df"
   ]
  },
  {
   "cell_type": "code",
   "execution_count": null,
   "id": "aea2ac9f",
   "metadata": {},
   "outputs": [],
   "source": []
  },
  {
   "cell_type": "code",
   "execution_count": null,
   "id": "b3052d04",
   "metadata": {},
   "outputs": [],
   "source": [
    "# MYINTRA EXTRACTION/CLEANING"
   ]
  },
  {
   "cell_type": "code",
   "execution_count": 49,
   "id": "ffa0cc82",
   "metadata": {},
   "outputs": [
    {
     "data": {
      "text/html": [
       "<div>\n",
       "<style scoped>\n",
       "    .dataframe tbody tr th:only-of-type {\n",
       "        vertical-align: middle;\n",
       "    }\n",
       "\n",
       "    .dataframe tbody tr th {\n",
       "        vertical-align: top;\n",
       "    }\n",
       "\n",
       "    .dataframe thead th {\n",
       "        text-align: right;\n",
       "    }\n",
       "</style>\n",
       "<table border=\"1\" class=\"dataframe\">\n",
       "  <thead>\n",
       "    <tr style=\"text-align: right;\">\n",
       "      <th></th>\n",
       "      <th>ProductID</th>\n",
       "      <th>PrimaryColor</th>\n",
       "    </tr>\n",
       "  </thead>\n",
       "  <tbody>\n",
       "    <tr>\n",
       "      <th>0</th>\n",
       "      <td>10017413</td>\n",
       "      <td>Black</td>\n",
       "    </tr>\n",
       "    <tr>\n",
       "      <th>2</th>\n",
       "      <td>10009781</td>\n",
       "      <td>Pink</td>\n",
       "    </tr>\n",
       "    <tr>\n",
       "      <th>3</th>\n",
       "      <td>10015921</td>\n",
       "      <td>Blue</td>\n",
       "    </tr>\n",
       "    <tr>\n",
       "      <th>4</th>\n",
       "      <td>10017833</td>\n",
       "      <td>White</td>\n",
       "    </tr>\n",
       "    <tr>\n",
       "      <th>6</th>\n",
       "      <td>10017869</td>\n",
       "      <td>Blue</td>\n",
       "    </tr>\n",
       "    <tr>\n",
       "      <th>...</th>\n",
       "      <td>...</td>\n",
       "      <td>...</td>\n",
       "    </tr>\n",
       "    <tr>\n",
       "      <th>12482</th>\n",
       "      <td>10261845</td>\n",
       "      <td>Green</td>\n",
       "    </tr>\n",
       "    <tr>\n",
       "      <th>12484</th>\n",
       "      <td>10265177</td>\n",
       "      <td>Blue</td>\n",
       "    </tr>\n",
       "    <tr>\n",
       "      <th>12486</th>\n",
       "      <td>10262843</td>\n",
       "      <td>Black</td>\n",
       "    </tr>\n",
       "    <tr>\n",
       "      <th>12488</th>\n",
       "      <td>10261607</td>\n",
       "      <td>Blue</td>\n",
       "    </tr>\n",
       "    <tr>\n",
       "      <th>12490</th>\n",
       "      <td>10265199</td>\n",
       "      <td>Black</td>\n",
       "    </tr>\n",
       "  </tbody>\n",
       "</table>\n",
       "<p>7262 rows × 2 columns</p>\n",
       "</div>"
      ],
      "text/plain": [
       "       ProductID PrimaryColor\n",
       "0       10017413        Black\n",
       "2       10009781         Pink\n",
       "3       10015921         Blue\n",
       "4       10017833        White\n",
       "6       10017869         Blue\n",
       "...          ...          ...\n",
       "12482   10261845        Green\n",
       "12484   10265177         Blue\n",
       "12486   10262843        Black\n",
       "12488   10261607         Blue\n",
       "12490   10265199        Black\n",
       "\n",
       "[7262 rows x 2 columns]"
      ]
     },
     "execution_count": 49,
     "metadata": {},
     "output_type": "execute_result"
    }
   ],
   "source": [
    "# Create a DataFrame that is a subset of the original Myntra CSV DataFrame, containing only colors of interest\n",
    "of_interest_scratch = fashion_data[(fashion_data[\"PrimaryColor\"].isin([\" Pink\", \"Blue\", \" Green\", \" Black\", \" White\"]))]\n",
    "of_interest = of_interest_scratch.loc[:,[\"ProductID\", \"PrimaryColor\"]]\n",
    "of_interest[\"PrimaryColor\"] = of_interest[\"PrimaryColor\"].replace({\" Pink\": \"Pink\", \" Green\": \"Green\", \" Black\": \"Black\", \" White\": \"White\"}) \n",
    "of_interest"
   ]
  },
  {
   "cell_type": "code",
   "execution_count": 50,
   "id": "166087e8",
   "metadata": {},
   "outputs": [],
   "source": [
    "# Grouping DataFrame by colors\n",
    "csv_color_grouped = of_interest.groupby([\"PrimaryColor\"])"
   ]
  },
  {
   "cell_type": "code",
   "execution_count": 51,
   "id": "cf78db4c",
   "metadata": {},
   "outputs": [
    {
     "data": {
      "text/html": [
       "<div>\n",
       "<style scoped>\n",
       "    .dataframe tbody tr th:only-of-type {\n",
       "        vertical-align: middle;\n",
       "    }\n",
       "\n",
       "    .dataframe tbody tr th {\n",
       "        vertical-align: top;\n",
       "    }\n",
       "\n",
       "    .dataframe thead th {\n",
       "        text-align: right;\n",
       "    }\n",
       "</style>\n",
       "<table border=\"1\" class=\"dataframe\">\n",
       "  <thead>\n",
       "    <tr style=\"text-align: right;\">\n",
       "      <th></th>\n",
       "      <th>ProductID</th>\n",
       "    </tr>\n",
       "    <tr>\n",
       "      <th>PrimaryColor</th>\n",
       "      <th></th>\n",
       "    </tr>\n",
       "  </thead>\n",
       "  <tbody>\n",
       "    <tr>\n",
       "      <th>Black</th>\n",
       "      <td>1640</td>\n",
       "    </tr>\n",
       "    <tr>\n",
       "      <th>Blue</th>\n",
       "      <td>3443</td>\n",
       "    </tr>\n",
       "    <tr>\n",
       "      <th>Green</th>\n",
       "      <td>908</td>\n",
       "    </tr>\n",
       "    <tr>\n",
       "      <th>Pink</th>\n",
       "      <td>391</td>\n",
       "    </tr>\n",
       "    <tr>\n",
       "      <th>White</th>\n",
       "      <td>880</td>\n",
       "    </tr>\n",
       "  </tbody>\n",
       "</table>\n",
       "</div>"
      ],
      "text/plain": [
       "              ProductID\n",
       "PrimaryColor           \n",
       "Black              1640\n",
       "Blue               3443\n",
       "Green               908\n",
       "Pink                391\n",
       "White               880"
      ]
     },
     "execution_count": 51,
     "metadata": {},
     "output_type": "execute_result"
    }
   ],
   "source": [
    "# Group DataFrame by color and get the number of each color type using .count()\n",
    "csv_color_count = csv_color_grouped.count()\n",
    "csv_color_count"
   ]
  },
  {
   "cell_type": "code",
   "execution_count": null,
   "id": "09a870a6",
   "metadata": {},
   "outputs": [],
   "source": []
  },
  {
   "cell_type": "markdown",
   "id": "ec814ab7",
   "metadata": {},
   "source": [
    "Data Visualization"
   ]
  },
  {
   "cell_type": "code",
   "execution_count": 16,
   "id": "666c5ddf",
   "metadata": {},
   "outputs": [],
   "source": [
    "# ASOS GRAPHS"
   ]
  },
  {
   "cell_type": "code",
   "execution_count": 17,
   "id": "4a43f355",
   "metadata": {},
   "outputs": [
    {
     "data": {
      "text/plain": [
       "(0.0, 35000.0)"
      ]
     },
     "execution_count": 17,
     "metadata": {},
     "output_type": "execute_result"
    },
    {
     "data": {
      "image/png": "[encoded data removed]",
      "text/plain": [
       "<Figure size 640x480 with 1 Axes>"
      ]
     },
     "metadata": {},
     "output_type": "display_data"
    }
   ],
   "source": [
    "# Plotting the number of results per country for the trend color pink\n",
    "country = [\"United States\", \"France\", \"Spain\", \"Germany\", \"Italy\",\"Australia\"]\n",
    "results = [us_pink, fr_pink, es_pink, de_pink, it_pink, au_pink]\n",
    "plt.barh(country, results, color = \"pink\")\n",
    "plt.title(\"Search Results for Pink\")\n",
    "plt.xlabel(\"Results\")\n",
    "plt.ylabel(\"Country\")\n",
    "plt.xlim(0, 35000)"
   ]
  },
  {
   "cell_type": "code",
   "execution_count": 18,
   "id": "9f394597",
   "metadata": {},
   "outputs": [
    {
     "data": {
      "text/plain": [
       "(0.0, 35000.0)"
      ]
     },
     "execution_count": 18,
     "metadata": {},
     "output_type": "execute_result"
    },
    {
     "data": {
      "image/png": "[encoded data removed]",
      "text/plain": [
       "<Figure size 640x480 with 1 Axes>"
      ]
     },
     "metadata": {},
     "output_type": "display_data"
    }
   ],
   "source": [
    "# Plotting the number of results per country for the trend color blue\n",
    "country = [\"United States\", \"France\", \"Spain\", \"Germany\", \"Italy\",\"Australia\"]\n",
    "results = [us_blue, fr_blue, es_blue, de_blue, it_blue, au_blue]\n",
    "plt.barh(country, results)\n",
    "plt.title(\"Search Results for Blue\")\n",
    "plt.xlabel(\"Results\")\n",
    "plt.ylabel(\"Country\")\n",
    "plt.xlim(0, 35000)"
   ]
  },
  {
   "cell_type": "code",
   "execution_count": 19,
   "id": "ffff9ce5",
   "metadata": {},
   "outputs": [
    {
     "data": {
      "text/plain": [
       "(0.0, 35000.0)"
      ]
     },
     "execution_count": 19,
     "metadata": {},
     "output_type": "execute_result"
    },
    {
     "data": {
      "image/png": "[encoded data removed]",
      "text/plain": [
       "<Figure size 640x480 with 1 Axes>"
      ]
     },
     "metadata": {},
     "output_type": "display_data"
    }
   ],
   "source": [
    "# Plotting the number of results per country for the trend color green\n",
    "country = [\"United States\", \"France\", \"Spain\", \"Germany\", \"Italy\",\"Australia\"]\n",
    "results = [us_green, fr_green, es_green, de_green, it_green, au_green]\n",
    "plt.barh(country, results, color = \"g\")\n",
    "plt.title(\"Search Results for Green\")\n",
    "plt.xlabel(\"Results\")\n",
    "plt.ylabel(\"Country\")\n",
    "plt.xlim(0, 35000)"
   ]
  },
  {
   "cell_type": "code",
   "execution_count": 20,
   "id": "51fd0f6e",
   "metadata": {},
   "outputs": [],
   "source": [
    "#Calculating the mean of each column in the ASOS colors_df DataFRame\n",
    "pink_mean = colors_df[\"Pink\"].mean()\n",
    "blue_mean = colors_df[\"Blue\"].mean()\n",
    "green_mean = colors_df[\"Green\"].mean()\n",
    "black_mean = colors_df[\"Black\"].mean()\n",
    "white_mean = colors_df[\"White\"].mean()"
   ]
  },
  {
   "cell_type": "code",
   "execution_count": 21,
   "id": "5fb42d03",
   "metadata": {},
   "outputs": [
    {
     "data": {
      "text/plain": [
       "Text(0, 0.5, 'Number of Results')"
      ]
     },
     "execution_count": 21,
     "metadata": {},
     "output_type": "execute_result"
    },
    {
     "data": {
      "image/png": "[encoded data removed]",
      "text/plain": [
       "<Figure size 640x480 with 1 Axes>"
      ]
     },
     "metadata": {},
     "output_type": "display_data"
    }
   ],
   "source": [
    "# Plotting the average number of results for each color\n",
    "colors = [\"Blue\", \"Black\", \"Green\", \"White\", \"Pink\"]\n",
    "results = [blue_mean, black_mean, green_mean, white_mean, pink_mean]\n",
    "plt.bar(colors, results)\n",
    "plt.title(\"ASOS: Average Number of Search Results By Color\")\n",
    "plt.xlabel(\"Color\")\n",
    "plt.ylabel(\"Number of Results\")"
   ]
  },
  {
   "cell_type": "code",
   "execution_count": null,
   "id": "261c23d7",
   "metadata": {},
   "outputs": [],
   "source": []
  },
  {
   "cell_type": "code",
   "execution_count": 22,
   "id": "75a9b574",
   "metadata": {},
   "outputs": [],
   "source": [
    "# MYINTRA GRAPH"
   ]
  },
  {
   "cell_type": "code",
   "execution_count": 23,
   "id": "563253c6",
   "metadata": {},
   "outputs": [
    {
     "data": {
      "image/png": "[encoded data removed]",
      "text/plain": [
       "<Figure size 600x600 with 1 Axes>"
      ]
     },
     "metadata": {},
     "output_type": "display_data"
    }
   ],
   "source": [
    "# Plot results\n",
    "csv_color_sorted = csv_color_count.sort_values(\"ProductID\", ascending = False)\n",
    "csv_color_graph = csv_color_sorted.plot(kind=\"bar\", y=\"ProductID\", grid=False, figsize=(6,6), xlabel = \"Color\", ylabel = \"Number of Items\",title=\"Myntra: Color vs Number of Items\", legend = False)"
   ]
  },
  {
   "cell_type": "code",
   "execution_count": null,
   "id": "a5404110",
   "metadata": {},
   "outputs": [],
   "source": []
  },
  {
   "cell_type": "markdown",
   "id": "c473dbc1",
   "metadata": {},
   "source": [
    "Data Analysis"
   ]
  },
  {
   "cell_type": "code",
   "execution_count": 24,
   "id": "111e5933",
   "metadata": {},
   "outputs": [],
   "source": [
    "# ASOS STATS"
   ]
  },
  {
   "cell_type": "code",
   "execution_count": 25,
   "id": "62bab287",
   "metadata": {
    "scrolled": true
   },
   "outputs": [
    {
     "data": {
      "text/html": [
       "<div>\n",
       "<style scoped>\n",
       "    .dataframe tbody tr th:only-of-type {\n",
       "        vertical-align: middle;\n",
       "    }\n",
       "\n",
       "    .dataframe tbody tr th {\n",
       "        vertical-align: top;\n",
       "    }\n",
       "\n",
       "    .dataframe thead th {\n",
       "        text-align: right;\n",
       "    }\n",
       "</style>\n",
       "<table border=\"1\" class=\"dataframe\">\n",
       "  <thead>\n",
       "    <tr style=\"text-align: right;\">\n",
       "      <th></th>\n",
       "      <th>Pink</th>\n",
       "      <th>Blue</th>\n",
       "      <th>Green</th>\n",
       "      <th>Black</th>\n",
       "      <th>White</th>\n",
       "    </tr>\n",
       "  </thead>\n",
       "  <tbody>\n",
       "    <tr>\n",
       "      <th>mean</th>\n",
       "      <td>1.889417e+04</td>\n",
       "      <td>1.812883e+04</td>\n",
       "      <td>1.415483e+04</td>\n",
       "      <td>1.458017e+04</td>\n",
       "      <td>8.854333e+03</td>\n",
       "    </tr>\n",
       "    <tr>\n",
       "      <th>median</th>\n",
       "      <td>1.994950e+04</td>\n",
       "      <td>1.690750e+04</td>\n",
       "      <td>1.417250e+04</td>\n",
       "      <td>1.525200e+04</td>\n",
       "      <td>1.017000e+04</td>\n",
       "    </tr>\n",
       "    <tr>\n",
       "      <th>var</th>\n",
       "      <td>2.121618e+07</td>\n",
       "      <td>4.999649e+07</td>\n",
       "      <td>1.189138e+07</td>\n",
       "      <td>3.852119e+07</td>\n",
       "      <td>1.804432e+07</td>\n",
       "    </tr>\n",
       "    <tr>\n",
       "      <th>std</th>\n",
       "      <td>4.606103e+03</td>\n",
       "      <td>7.070820e+03</td>\n",
       "      <td>3.448388e+03</td>\n",
       "      <td>6.206544e+03</td>\n",
       "      <td>4.247861e+03</td>\n",
       "    </tr>\n",
       "    <tr>\n",
       "      <th>sem</th>\n",
       "      <td>1.880434e+03</td>\n",
       "      <td>2.886650e+03</td>\n",
       "      <td>1.407799e+03</td>\n",
       "      <td>2.533811e+03</td>\n",
       "      <td>1.734182e+03</td>\n",
       "    </tr>\n",
       "  </tbody>\n",
       "</table>\n",
       "</div>"
      ],
      "text/plain": [
       "                Pink          Blue         Green         Black         White\n",
       "mean    1.889417e+04  1.812883e+04  1.415483e+04  1.458017e+04  8.854333e+03\n",
       "median  1.994950e+04  1.690750e+04  1.417250e+04  1.525200e+04  1.017000e+04\n",
       "var     2.121618e+07  4.999649e+07  1.189138e+07  3.852119e+07  1.804432e+07\n",
       "std     4.606103e+03  7.070820e+03  3.448388e+03  6.206544e+03  4.247861e+03\n",
       "sem     1.880434e+03  2.886650e+03  1.407799e+03  2.533811e+03  1.734182e+03"
      ]
     },
     "execution_count": 25,
     "metadata": {},
     "output_type": "execute_result"
    }
   ],
   "source": [
    "# Calculating Stats for each color in the ASOS colors_agg DataFrame\n",
    "colors_agg = colors_df.agg([\"mean\", \"median\", \"var\", \"std\", \"sem\"])\n",
    "colors_agg"
   ]
  },
  {
   "cell_type": "code",
   "execution_count": 26,
   "id": "3fbc0dd8",
   "metadata": {},
   "outputs": [],
   "source": [
    "# Get the number of items for each color in ASOS colors_df DataFrame and convert to an integer.\n",
    "# Combine all sums to get total number of items in dataframe as integer.\n",
    "asos_pink = int(colors_df[\"Pink\"].sum())\n",
    "asos_blue = int(colors_df[\"Blue\"].sum())\n",
    "asos_green = int(colors_df[\"Green\"].sum())\n",
    "asos_black = int(colors_df[\"Black\"].sum())\n",
    "asos_white = int(colors_df[\"White\"].sum())\n",
    "\n",
    "asos_total = asos_pink + asos_blue + asos_green + asos_black + asos_white"
   ]
  },
  {
   "cell_type": "code",
   "execution_count": 27,
   "id": "622e1410",
   "metadata": {},
   "outputs": [
    {
     "data": {
      "text/plain": [
       "0.25323114587847406"
      ]
     },
     "execution_count": 27,
     "metadata": {},
     "output_type": "execute_result"
    }
   ],
   "source": [
    "# Divide each sum by the total number of items to get the proportion for each color. \n",
    "asos_pink_prop = asos_pink/asos_total\n",
    "asos_blue_prop = asos_blue/asos_total\n",
    "asos_green_prop = asos_green/asos_total\n",
    "asos_black_prop = asos_black/asos_total\n",
    "asos_white_prop = asos_white/asos_total\n",
    "\n",
    "asos_pink_prop"
   ]
  },
  {
   "cell_type": "code",
   "execution_count": null,
   "id": "462d300f",
   "metadata": {},
   "outputs": [],
   "source": []
  },
  {
   "cell_type": "code",
   "execution_count": null,
   "id": "cfaecbf2",
   "metadata": {},
   "outputs": [],
   "source": [
    "# MYINTRA STATS"
   ]
  },
  {
   "cell_type": "code",
   "execution_count": 52,
   "id": "a092fe8c",
   "metadata": {},
   "outputs": [
    {
     "data": {
      "text/html": [
       "<div>\n",
       "<style scoped>\n",
       "    .dataframe tbody tr th:only-of-type {\n",
       "        vertical-align: middle;\n",
       "    }\n",
       "\n",
       "    .dataframe tbody tr th {\n",
       "        vertical-align: top;\n",
       "    }\n",
       "\n",
       "    .dataframe thead tr th {\n",
       "        text-align: left;\n",
       "    }\n",
       "\n",
       "    .dataframe thead tr:last-of-type th {\n",
       "        text-align: right;\n",
       "    }\n",
       "</style>\n",
       "<table border=\"1\" class=\"dataframe\">\n",
       "  <thead>\n",
       "    <tr>\n",
       "      <th></th>\n",
       "      <th colspan=\"5\" halign=\"left\">ProductID</th>\n",
       "    </tr>\n",
       "    <tr>\n",
       "      <th></th>\n",
       "      <th>mean</th>\n",
       "      <th>median</th>\n",
       "      <th>var</th>\n",
       "      <th>std</th>\n",
       "      <th>sem</th>\n",
       "    </tr>\n",
       "    <tr>\n",
       "      <th>PrimaryColor</th>\n",
       "      <th></th>\n",
       "      <th></th>\n",
       "      <th></th>\n",
       "      <th></th>\n",
       "      <th></th>\n",
       "    </tr>\n",
       "  </thead>\n",
       "  <tbody>\n",
       "    <tr>\n",
       "      <th>Black</th>\n",
       "      <td>9.911748e+06</td>\n",
       "      <td>10158165.0</td>\n",
       "      <td>2.162341e+12</td>\n",
       "      <td>1.470490e+06</td>\n",
       "      <td>36311.167822</td>\n",
       "    </tr>\n",
       "    <tr>\n",
       "      <th>Blue</th>\n",
       "      <td>1.005093e+07</td>\n",
       "      <td>10157261.0</td>\n",
       "      <td>9.236371e+11</td>\n",
       "      <td>9.610604e+05</td>\n",
       "      <td>16378.803357</td>\n",
       "    </tr>\n",
       "    <tr>\n",
       "      <th>Green</th>\n",
       "      <td>1.001413e+07</td>\n",
       "      <td>10158951.0</td>\n",
       "      <td>1.276297e+12</td>\n",
       "      <td>1.129733e+06</td>\n",
       "      <td>37491.506375</td>\n",
       "    </tr>\n",
       "    <tr>\n",
       "      <th>Pink</th>\n",
       "      <td>1.009350e+07</td>\n",
       "      <td>10155715.0</td>\n",
       "      <td>4.318845e+11</td>\n",
       "      <td>6.571792e+05</td>\n",
       "      <td>33234.978819</td>\n",
       "    </tr>\n",
       "    <tr>\n",
       "      <th>White</th>\n",
       "      <td>9.906012e+06</td>\n",
       "      <td>10143877.0</td>\n",
       "      <td>2.131530e+12</td>\n",
       "      <td>1.459976e+06</td>\n",
       "      <td>49215.785107</td>\n",
       "    </tr>\n",
       "  </tbody>\n",
       "</table>\n",
       "</div>"
      ],
      "text/plain": [
       "                 ProductID                                          \\\n",
       "                      mean      median           var           std   \n",
       "PrimaryColor                                                         \n",
       "Black         9.911748e+06  10158165.0  2.162341e+12  1.470490e+06   \n",
       "Blue          1.005093e+07  10157261.0  9.236371e+11  9.610604e+05   \n",
       "Green         1.001413e+07  10158951.0  1.276297e+12  1.129733e+06   \n",
       "Pink          1.009350e+07  10155715.0  4.318845e+11  6.571792e+05   \n",
       "White         9.906012e+06  10143877.0  2.131530e+12  1.459976e+06   \n",
       "\n",
       "                            \n",
       "                       sem  \n",
       "PrimaryColor                \n",
       "Black         36311.167822  \n",
       "Blue          16378.803357  \n",
       "Green         37491.506375  \n",
       "Pink          33234.978819  \n",
       "White         49215.785107  "
      ]
     },
     "execution_count": 52,
     "metadata": {},
     "output_type": "execute_result"
    }
   ],
   "source": [
    "# Get stats for each color in above DataFrame\n",
    "csv_colors_agg = csv_color_grouped.agg([\"mean\", \"median\", \"var\", \"std\", \"sem\"])\n",
    "csv_colors_agg"
   ]
  },
  {
   "cell_type": "code",
   "execution_count": 55,
   "id": "ec6b71e3",
   "metadata": {},
   "outputs": [],
   "source": [
    "# Get the number of items for each color in of_interest Myntra DataFrame and convert to an integer.\n",
    "# Combine all sums to get total number of items in dataframe as integer.\n",
    "myntra_pink = int((of_interest[\"PrimaryColor\"] == \"Pink\").sum())\n",
    "myntra_blue = int((of_interest[\"PrimaryColor\"] == \"Blue\").sum())\n",
    "myntra_green = int((of_interest[\"PrimaryColor\"] == \"Green\").sum())\n",
    "myntra_black = int((of_interest[\"PrimaryColor\"] == \"Black\").sum())\n",
    "myntra_white = int((of_interest[\"PrimaryColor\"] == \"White\").sum())\n",
    "\n",
    "myntra_total = myntra_pink + myntra_blue + myntra_green + myntra_black + myntra_white"
   ]
  },
  {
   "cell_type": "code",
   "execution_count": 56,
   "id": "d49e41ae",
   "metadata": {},
   "outputs": [
    {
     "data": {
      "text/plain": [
       "0.0538419168273203"
      ]
     },
     "execution_count": 56,
     "metadata": {},
     "output_type": "execute_result"
    }
   ],
   "source": [
    "# Divide each sum by the total number of items to get the Myntra proportion for each color. \n",
    "myntra_pink_prop = myntra_pink/myntra_total\n",
    "myntra_blue_prop = myntra_blue/myntra_total\n",
    "myntra_green_prop = myntra_green/myntra_total\n",
    "myntra_black_prop = myntra_black/myntra_total\n",
    "myntra_white_prop = myntra_white/myntra_total\n",
    "myntra_pink_prop"
   ]
  },
  {
   "cell_type": "code",
   "execution_count": null,
   "id": "8a2269b1",
   "metadata": {},
   "outputs": [],
   "source": []
  },
  {
   "cell_type": "code",
   "execution_count": null,
   "id": "f076d7a6",
   "metadata": {},
   "outputs": [],
   "source": [
    "# CHI-SQUARED"
   ]
  },
  {
   "cell_type": "code",
   "execution_count": 28,
   "id": "11340e44",
   "metadata": {},
   "outputs": [
    {
     "ename": "NameError",
     "evalue": "name 'myntra_pink_prop' is not defined",
     "output_type": "error",
     "traceback": [
      "\u001b[0;31m---------------------------------------------------------------------------\u001b[0m",
      "\u001b[0;31mNameError\u001b[0m                                 Traceback (most recent call last)",
      "Input \u001b[0;32mIn [28]\u001b[0m, in \u001b[0;36m<cell line: 2>\u001b[0;34m()\u001b[0m\n\u001b[1;32m      1\u001b[0m \u001b[38;5;66;03m# Calculate expected values for chi-squared test by multiplying Myntra color proportions by ASOS total items. \u001b[39;00m\n\u001b[0;32m----> 2\u001b[0m pink_expected \u001b[38;5;241m=\u001b[39m (\u001b[43mmyntra_pink_prop\u001b[49m \u001b[38;5;241m*\u001b[39m asos_total)\n\u001b[1;32m      3\u001b[0m blue_expected \u001b[38;5;241m=\u001b[39m (myntra_blue_prop \u001b[38;5;241m*\u001b[39m asos_total)\n\u001b[1;32m      4\u001b[0m green_expected \u001b[38;5;241m=\u001b[39m (myntra_green_prop \u001b[38;5;241m*\u001b[39m asos_total)\n",
      "\u001b[0;31mNameError\u001b[0m: name 'myntra_pink_prop' is not defined"
     ]
    }
   ],
   "source": [
    "# Calculate expected values for chi-squared test by multiplying Myntra color proportions by ASOS total items. \n",
    "pink_expected = (myntra_pink_prop * asos_total)\n",
    "blue_expected = (myntra_blue_prop * asos_total)\n",
    "green_expected = (myntra_green_prop * asos_total)\n",
    "black_expected = (myntra_black_prop * asos_total)\n",
    "white_expected = (myntra_white_prop * asos_total)"
   ]
  },
  {
   "cell_type": "code",
   "execution_count": 45,
   "id": "95635699",
   "metadata": {},
   "outputs": [
    {
     "data": {
      "text/plain": [
       "Power_divergenceResult(statistic=487507.2234290384, pvalue=0.0)"
      ]
     },
     "execution_count": 45,
     "metadata": {},
     "output_type": "execute_result"
    }
   ],
   "source": [
    "# Chi-squared test\n",
    "sig = st.chisquare([asos_pink, asos_blue, asos_green, asos_black, asos_white], f_exp=[pink_expected, blue_expected, green_expected, black_expected, white_expected])\n",
    "sig\n",
    "\n"
   ]
  },
  {
   "cell_type": "code",
   "execution_count": null,
   "id": "092a8a7f",
   "metadata": {},
   "outputs": [],
   "source": []
  },
  {
   "cell_type": "code",
   "execution_count": null,
   "id": "9624d51b",
   "metadata": {},
   "outputs": [],
   "source": []
  },
  {
   "cell_type": "markdown",
   "id": "e796dae4",
   "metadata": {},
   "source": [
    "Continuation\n",
    "• Continuation of original fast_fashion analyses. \n",
    "• Generating alterate asos and myntra dataframes with the same color index. "
   ]
  },
  {
   "cell_type": "code",
   "execution_count": 31,
   "id": "748a358d",
   "metadata": {},
   "outputs": [
    {
     "data": {
      "text/html": [
       "<div>\n",
       "<style scoped>\n",
       "    .dataframe tbody tr th:only-of-type {\n",
       "        vertical-align: middle;\n",
       "    }\n",
       "\n",
       "    .dataframe tbody tr th {\n",
       "        vertical-align: top;\n",
       "    }\n",
       "\n",
       "    .dataframe thead th {\n",
       "        text-align: right;\n",
       "    }\n",
       "</style>\n",
       "<table border=\"1\" class=\"dataframe\">\n",
       "  <thead>\n",
       "    <tr style=\"text-align: right;\">\n",
       "      <th></th>\n",
       "      <th>ASOS_US</th>\n",
       "      <th>ASOS_FR</th>\n",
       "      <th>ASOS_ES</th>\n",
       "      <th>ASOS_DE</th>\n",
       "      <th>ASOS_IT</th>\n",
       "      <th>ASOS_AU</th>\n",
       "    </tr>\n",
       "    <tr>\n",
       "      <th>Colors</th>\n",
       "      <th></th>\n",
       "      <th></th>\n",
       "      <th></th>\n",
       "      <th></th>\n",
       "      <th></th>\n",
       "      <th></th>\n",
       "    </tr>\n",
       "  </thead>\n",
       "  <tbody>\n",
       "    <tr>\n",
       "      <th>Pink</th>\n",
       "      <td>19509</td>\n",
       "      <td>25317</td>\n",
       "      <td>20390</td>\n",
       "      <td>12412</td>\n",
       "      <td>20876</td>\n",
       "      <td>14861</td>\n",
       "    </tr>\n",
       "    <tr>\n",
       "      <th>Blue</th>\n",
       "      <td>17351</td>\n",
       "      <td>14573</td>\n",
       "      <td>9040</td>\n",
       "      <td>16464</td>\n",
       "      <td>30005</td>\n",
       "      <td>21340</td>\n",
       "    </tr>\n",
       "    <tr>\n",
       "      <th>Green</th>\n",
       "      <td>19506</td>\n",
       "      <td>11054</td>\n",
       "      <td>9963</td>\n",
       "      <td>16061</td>\n",
       "      <td>14197</td>\n",
       "      <td>14148</td>\n",
       "    </tr>\n",
       "    <tr>\n",
       "      <th>Black</th>\n",
       "      <td>14459</td>\n",
       "      <td>21026</td>\n",
       "      <td>13663</td>\n",
       "      <td>3256</td>\n",
       "      <td>19032</td>\n",
       "      <td>16045</td>\n",
       "    </tr>\n",
       "    <tr>\n",
       "      <th>White</th>\n",
       "      <td>7966</td>\n",
       "      <td>12364</td>\n",
       "      <td>11381</td>\n",
       "      <td>893</td>\n",
       "      <td>8959</td>\n",
       "      <td>11563</td>\n",
       "    </tr>\n",
       "  </tbody>\n",
       "</table>\n",
       "</div>"
      ],
      "text/plain": [
       "        ASOS_US  ASOS_FR  ASOS_ES  ASOS_DE  ASOS_IT  ASOS_AU\n",
       "Colors                                                      \n",
       "Pink      19509    25317    20390    12412    20876    14861\n",
       "Blue      17351    14573     9040    16464    30005    21340\n",
       "Green     19506    11054     9963    16061    14197    14148\n",
       "Black     14459    21026    13663     3256    19032    16045\n",
       "White      7966    12364    11381      893     8959    11563"
      ]
     },
     "execution_count": 31,
     "metadata": {},
     "output_type": "execute_result"
    }
   ],
   "source": [
    "# Generating asos dataframe indexed by color. \n",
    "asos_colors_grouped_df = pd.DataFrame({\"Colors\": [\"Pink\", \"Blue\", \"Green\", \"Black\", \"White\"], \"ASOS_US\":[us_pink, us_blue, us_green, us_black, us_white], \"ASOS_FR\":[fr_pink, fr_blue, fr_green, fr_black, fr_white], \"ASOS_ES\":[es_pink, es_blue, es_green, es_black, es_white],\"ASOS_DE\":[de_pink, de_blue, de_green, de_black, de_white], \"ASOS_IT\":[it_pink, it_blue, it_green, it_black, it_white], \"ASOS_AU\": [au_pink, au_blue, au_green, au_black, au_white]}).set_index(\"Colors\")\n",
    "asos_colors_grouped_df"
   ]
  },
  {
   "cell_type": "code",
   "execution_count": 33,
   "id": "50995e33",
   "metadata": {},
   "outputs": [
    {
     "data": {
      "text/html": [
       "<div>\n",
       "<style scoped>\n",
       "    .dataframe tbody tr th:only-of-type {\n",
       "        vertical-align: middle;\n",
       "    }\n",
       "\n",
       "    .dataframe tbody tr th {\n",
       "        vertical-align: top;\n",
       "    }\n",
       "\n",
       "    .dataframe thead th {\n",
       "        text-align: right;\n",
       "    }\n",
       "</style>\n",
       "<table border=\"1\" class=\"dataframe\">\n",
       "  <thead>\n",
       "    <tr style=\"text-align: right;\">\n",
       "      <th></th>\n",
       "      <th>ASOS_US</th>\n",
       "      <th>ASOS_FR</th>\n",
       "      <th>ASOS_ES</th>\n",
       "      <th>ASOS_DE</th>\n",
       "      <th>ASOS_IT</th>\n",
       "      <th>ASOS_AU</th>\n",
       "    </tr>\n",
       "    <tr>\n",
       "      <th>Colors</th>\n",
       "      <th></th>\n",
       "      <th></th>\n",
       "      <th></th>\n",
       "      <th></th>\n",
       "      <th></th>\n",
       "      <th></th>\n",
       "    </tr>\n",
       "  </thead>\n",
       "  <tbody>\n",
       "    <tr>\n",
       "      <th>Pink</th>\n",
       "      <td>0.043579</td>\n",
       "      <td>0.056552</td>\n",
       "      <td>0.045547</td>\n",
       "      <td>0.027726</td>\n",
       "      <td>0.046632</td>\n",
       "      <td>0.033196</td>\n",
       "    </tr>\n",
       "    <tr>\n",
       "      <th>Blue</th>\n",
       "      <td>0.038758</td>\n",
       "      <td>0.032553</td>\n",
       "      <td>0.020193</td>\n",
       "      <td>0.036777</td>\n",
       "      <td>0.067024</td>\n",
       "      <td>0.047669</td>\n",
       "    </tr>\n",
       "    <tr>\n",
       "      <th>Green</th>\n",
       "      <td>0.043572</td>\n",
       "      <td>0.024692</td>\n",
       "      <td>0.022255</td>\n",
       "      <td>0.035877</td>\n",
       "      <td>0.031713</td>\n",
       "      <td>0.031603</td>\n",
       "    </tr>\n",
       "    <tr>\n",
       "      <th>Black</th>\n",
       "      <td>0.032298</td>\n",
       "      <td>0.046967</td>\n",
       "      <td>0.030520</td>\n",
       "      <td>0.007273</td>\n",
       "      <td>0.042513</td>\n",
       "      <td>0.035841</td>\n",
       "    </tr>\n",
       "    <tr>\n",
       "      <th>White</th>\n",
       "      <td>0.017794</td>\n",
       "      <td>0.027618</td>\n",
       "      <td>0.025423</td>\n",
       "      <td>0.001995</td>\n",
       "      <td>0.020012</td>\n",
       "      <td>0.025829</td>\n",
       "    </tr>\n",
       "  </tbody>\n",
       "</table>\n",
       "</div>"
      ],
      "text/plain": [
       "         ASOS_US   ASOS_FR   ASOS_ES   ASOS_DE   ASOS_IT   ASOS_AU\n",
       "Colors                                                            \n",
       "Pink    0.043579  0.056552  0.045547  0.027726  0.046632  0.033196\n",
       "Blue    0.038758  0.032553  0.020193  0.036777  0.067024  0.047669\n",
       "Green   0.043572  0.024692  0.022255  0.035877  0.031713  0.031603\n",
       "Black   0.032298  0.046967  0.030520  0.007273  0.042513  0.035841\n",
       "White   0.017794  0.027618  0.025423  0.001995  0.020012  0.025829"
      ]
     },
     "execution_count": 33,
     "metadata": {},
     "output_type": "execute_result"
    }
   ],
   "source": [
    "asos_proportions = asos_colors_grouped_df/asos_total\n",
    "asos_proportions"
   ]
  },
  {
   "cell_type": "code",
   "execution_count": null,
   "id": "5dea1d32",
   "metadata": {},
   "outputs": [],
   "source": []
  },
  {
   "cell_type": "code",
   "execution_count": 42,
   "id": "5e0561c6",
   "metadata": {},
   "outputs": [
    {
     "data": {
      "text/html": [
       "<div>\n",
       "<style scoped>\n",
       "    .dataframe tbody tr th:only-of-type {\n",
       "        vertical-align: middle;\n",
       "    }\n",
       "\n",
       "    .dataframe tbody tr th {\n",
       "        vertical-align: top;\n",
       "    }\n",
       "\n",
       "    .dataframe thead th {\n",
       "        text-align: right;\n",
       "    }\n",
       "</style>\n",
       "<table border=\"1\" class=\"dataframe\">\n",
       "  <thead>\n",
       "    <tr style=\"text-align: right;\">\n",
       "      <th></th>\n",
       "      <th>myntra_IN</th>\n",
       "    </tr>\n",
       "    <tr>\n",
       "      <th>PrimaryColor</th>\n",
       "      <th></th>\n",
       "    </tr>\n",
       "  </thead>\n",
       "  <tbody>\n",
       "    <tr>\n",
       "      <th>Black</th>\n",
       "      <td>1640</td>\n",
       "    </tr>\n",
       "    <tr>\n",
       "      <th>Blue</th>\n",
       "      <td>3443</td>\n",
       "    </tr>\n",
       "    <tr>\n",
       "      <th>Green</th>\n",
       "      <td>908</td>\n",
       "    </tr>\n",
       "    <tr>\n",
       "      <th>Pink</th>\n",
       "      <td>391</td>\n",
       "    </tr>\n",
       "    <tr>\n",
       "      <th>White</th>\n",
       "      <td>880</td>\n",
       "    </tr>\n",
       "  </tbody>\n",
       "</table>\n",
       "</div>"
      ],
      "text/plain": [
       "              myntra_IN\n",
       "PrimaryColor           \n",
       "Black              1640\n",
       "Blue               3443\n",
       "Green               908\n",
       "Pink                391\n",
       "White               880"
      ]
     },
     "execution_count": 42,
     "metadata": {},
     "output_type": "execute_result"
    }
   ],
   "source": [
    "# Generating asos dataframe indexed by color. \n",
    "csv_color_count = csv_color_grouped.count()\n",
    "myntra_colors_grouped = csv_color_count.rename(columns = {\"PrimaryColor\": \"Colors\", \"ProductID\": \"myntra_IN\"})\n",
    "myntra_colors_grouped"
   ]
  },
  {
   "cell_type": "code",
   "execution_count": 58,
   "id": "03e1da4c",
   "metadata": {},
   "outputs": [
    {
     "data": {
      "text/html": [
       "<div>\n",
       "<style scoped>\n",
       "    .dataframe tbody tr th:only-of-type {\n",
       "        vertical-align: middle;\n",
       "    }\n",
       "\n",
       "    .dataframe tbody tr th {\n",
       "        vertical-align: top;\n",
       "    }\n",
       "\n",
       "    .dataframe thead th {\n",
       "        text-align: right;\n",
       "    }\n",
       "</style>\n",
       "<table border=\"1\" class=\"dataframe\">\n",
       "  <thead>\n",
       "    <tr style=\"text-align: right;\">\n",
       "      <th></th>\n",
       "      <th>myntra_IN</th>\n",
       "    </tr>\n",
       "    <tr>\n",
       "      <th>PrimaryColor</th>\n",
       "      <th></th>\n",
       "    </tr>\n",
       "  </thead>\n",
       "  <tbody>\n",
       "    <tr>\n",
       "      <th>Black</th>\n",
       "      <td>0.225833</td>\n",
       "    </tr>\n",
       "    <tr>\n",
       "      <th>Blue</th>\n",
       "      <td>0.474112</td>\n",
       "    </tr>\n",
       "    <tr>\n",
       "      <th>Green</th>\n",
       "      <td>0.125034</td>\n",
       "    </tr>\n",
       "    <tr>\n",
       "      <th>Pink</th>\n",
       "      <td>0.053842</td>\n",
       "    </tr>\n",
       "    <tr>\n",
       "      <th>White</th>\n",
       "      <td>0.121179</td>\n",
       "    </tr>\n",
       "  </tbody>\n",
       "</table>\n",
       "</div>"
      ],
      "text/plain": [
       "              myntra_IN\n",
       "PrimaryColor           \n",
       "Black          0.225833\n",
       "Blue           0.474112\n",
       "Green          0.125034\n",
       "Pink           0.053842\n",
       "White          0.121179"
      ]
     },
     "execution_count": 58,
     "metadata": {},
     "output_type": "execute_result"
    }
   ],
   "source": [
    "myntra_proportions = myntra_colors_grouped/myntra_total\n",
    "myntra_proportions"
   ]
  },
  {
   "cell_type": "code",
   "execution_count": null,
   "id": "67d4832b",
   "metadata": {},
   "outputs": [],
   "source": []
  },
  {
   "cell_type": "code",
   "execution_count": 69,
   "id": "a8665355",
   "metadata": {},
   "outputs": [],
   "source": [
    "# Writing both dataframes to csv files for import\n",
    "asos_proportions.to_csv(\"asos_prop.csv\")\n",
    "myntra_proportions.to_csv(\"myntra_prop.csv\")"
   ]
  }
 ],
 "metadata": {
  "kernelspec": {
   "display_name": "Python 3 (ipykernel)",
   "language": "python",
   "name": "python3"
  },
  "language_info": {
   "codemirror_mode": {
    "name": "ipython",
    "version": 3
   },
   "file_extension": ".py",
   "mimetype": "text/x-python",
   "name": "python",
   "nbconvert_exporter": "python",
   "pygments_lexer": "ipython3",
   "version": "3.10.4"
  }
 },
 "nbformat": 4,
 "nbformat_minor": 5
}
